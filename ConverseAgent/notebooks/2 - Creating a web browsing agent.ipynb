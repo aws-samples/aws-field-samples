{
 "cells": [
  {
   "cell_type": "markdown",
   "metadata": {},
   "source": [
    "### Creating a web browsing agent\n",
    "\n",
    "This notebook will show you how to create a Web Browsing agent.\n",
    "A Web Browsing agent can control a web browser such as navigating to web pages,\n",
    "clicking, filling, and scrolling.\n"
   ]
  },
  {
   "cell_type": "code",
   "execution_count": null,
   "metadata": {},
   "outputs": [],
   "source": [
    "from converseagent.messages import UserMessage\n",
    "from converseagent.models.bedrock import BedrockModel\n",
    "from converseagent.models.inference_config import InferenceConfig\n",
    "from converseagent_extras.agents.browser_agent import BrowserAgent\n",
    "from converseagent.utils.update import update_callback"
   ]
  },
  {
   "cell_type": "code",
   "execution_count": null,
   "metadata": {},
   "outputs": [],
   "source": [
    "# Specify a Bedrock model id\n",
    "bedrock_model_id = \"us.anthropic.claude-3-7-sonnet-20250219-v1:0\"\n",
    "\n",
    "model = BedrockModel(\n",
    "    bedrock_model_id=bedrock_model_id,\n",
    ")\n",
    "agent = BrowserAgent(\n",
    "    model=model,\n",
    "    return_final_response_only=True,  # Set to false to avoid reprompting\n",
    ")\n",
    "\n",
    "await agent.start_browser()"
   ]
  },
  {
   "cell_type": "code",
   "execution_count": null,
   "metadata": {},
   "outputs": [],
   "source": [
    "# Setting inference config\n",
    "inference_config = InferenceConfig(max_tokens=32000, temperature=1)\n",
    "\n",
    "# Enabling Claude 3.7 Sonnet Reasoning\n",
    "additional_model_request_fields = {\n",
    "    \"thinking\": {\"type\": \"enabled\", \"budget_tokens\": 1024},\n",
    "}"
   ]
  },
  {
   "cell_type": "code",
   "execution_count": null,
   "metadata": {},
   "outputs": [],
   "source": [
    "prompt = \"\"\"\n",
    "Go to wikipedia.org, search for machine learning, and return the search results.\n",
    "\"\"\""
   ]
  },
  {
   "cell_type": "code",
   "execution_count": null,
   "metadata": {},
   "outputs": [],
   "source": [
    "# Let's execute\n",
    "response = await agent.ainvoke(\n",
    "    user_message=UserMessage(text=prompt),\n",
    "    verbose=False,\n",
    "    additional_model_request_fields=additional_model_request_fields,\n",
    "    inference_config=inference_config,\n",
    "    update_callback=update_callback,\n",
    ")\n",
    "\n",
    "print(response[\"body\"][\"text\"])"
   ]
  }
 ],
 "metadata": {
  "kernelspec": {
   "display_name": "converse_agent",
   "language": "python",
   "name": "python3"
  },
  "language_info": {
   "codemirror_mode": {
    "name": "ipython",
    "version": 3
   },
   "file_extension": ".py",
   "mimetype": "text/x-python",
   "name": "python",
   "nbconvert_exporter": "python",
   "pygments_lexer": "ipython3",
   "version": "3.12.6"
  }
 },
 "nbformat": 4,
 "nbformat_minor": 2
}
