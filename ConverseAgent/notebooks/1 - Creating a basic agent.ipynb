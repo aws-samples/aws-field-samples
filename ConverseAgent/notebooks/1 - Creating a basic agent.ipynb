{
 "cells": [
  {
   "cell_type": "markdown",
   "metadata": {},
   "source": [
    "### Create a basic agent using ConverseAgent\n",
    "\n",
    "This notebook will show you how to invoke a basic agent.\n",
    "An agent can take in Text, Images, and Documents (such as PDFs).\n"
   ]
  },
  {
   "cell_type": "code",
   "execution_count": null,
   "metadata": {},
   "outputs": [],
   "source": [
    "from converseagent.agents import BaseAgent\n",
    "from converseagent.messages import UserMessage\n",
    "from converseagent.content import (\n",
    "    TextContentBlock,\n",
    "    DocumentContentBlock,\n",
    "    ImageContentBlock,\n",
    ")\n",
    "from converseagent.models.bedrock import BedrockModel\n",
    "from converseagent.models.inference_config import InferenceConfig"
   ]
  },
  {
   "cell_type": "markdown",
   "metadata": {},
   "source": [
    "#### Initialize the agent\n"
   ]
  },
  {
   "cell_type": "code",
   "execution_count": null,
   "metadata": {},
   "outputs": [],
   "source": [
    "# Specify a Bedrock model id\n",
    "bedrock_model_id = \"us.anthropic.claude-3-5-sonnet-20241022-v2:0\"\n",
    "model = BedrockModel(bedrock_model_id=bedrock_model_id)\n",
    "# Initialize the agent\n",
    "agent = BaseAgent(model=model)"
   ]
  },
  {
   "cell_type": "markdown",
   "metadata": {},
   "source": [
    "#### Example 1: Invoking an agent with just a simple text prompt and inference config\n"
   ]
  },
  {
   "cell_type": "code",
   "execution_count": null,
   "metadata": {},
   "outputs": [],
   "source": [
    "# Create a UserMessage\n",
    "prompt = \"\"\"Write me a a 50 word story about AI agent\"\"\"\n",
    "user_message = UserMessage(text=prompt)\n",
    "\n",
    "\n",
    "# Define the inference config\n",
    "inference_config = InferenceConfig(max_tokens=512, temperature=1.0)\n",
    "\n",
    "# Invoke the agent\n",
    "response = agent.invoke(\n",
    "    user_message=user_message, inference_config=inference_config, verbose=False\n",
    ")\n",
    "\n",
    "# Print the response\n",
    "print(response[\"body\"][\"text\"])"
   ]
  },
  {
   "cell_type": "markdown",
   "metadata": {},
   "source": [
    "##### Example 2: Invoking an agent with a document\n"
   ]
  },
  {
   "cell_type": "code",
   "execution_count": null,
   "metadata": {},
   "outputs": [],
   "source": [
    "# Clear the agent memory\n",
    "agent.clear_memory()\n",
    "\n",
    "# Create a user message with a document\n",
    "prompt = \"Summarize this document in a sentence.\"\n",
    "file_uri = \"file://./sample_data/space.md\"\n",
    "user_message = UserMessage()\n",
    "\n",
    "# To append text, create a TextContentBlock and append it\n",
    "user_message.append_content(TextContentBlock(text=prompt))\n",
    "\n",
    "# To append documents, create a DocumentContentBlock and append it\n",
    "user_message.append_content(DocumentContentBlock(uri=file_uri, name=\"doc1\"))\n",
    "\n",
    "# Invoke the agent and print the response\n",
    "response = agent.invoke(user_message=user_message, verbose=False)\n",
    "print(response[\"body\"][\"text\"])"
   ]
  },
  {
   "cell_type": "markdown",
   "metadata": {},
   "source": [
    "##### Example 3: Invoking an agent with an image\n"
   ]
  },
  {
   "cell_type": "code",
   "execution_count": null,
   "metadata": {},
   "outputs": [],
   "source": [
    "# Clear the agent history\n",
    "agent.clear_memory()\n",
    "\n",
    "# Create a user message with a document\n",
    "prompt = \"Briefly describe what's in the image\"\n",
    "file_uri = \"file://./sample_data/space_image.png\"\n",
    "user_message = UserMessage()\n",
    "\n",
    "# To append text, create a TextContentBlock and append it\n",
    "user_message.append_content(TextContentBlock(text=prompt))\n",
    "\n",
    "# To append documents, create a DocumentContentBlock and append it\n",
    "user_message.append_content(ImageContentBlock(uri=file_uri, name=\"image1\"))\n",
    "\n",
    "# Invoke the agent and print the response\n",
    "response = agent.invoke(user_message=user_message, verbose=False)\n",
    "print(response[\"body\"][\"text\"])"
   ]
  },
  {
   "cell_type": "markdown",
   "metadata": {},
   "source": [
    "#### Example 4: Invoking an agent asynchronously\n"
   ]
  },
  {
   "cell_type": "code",
   "execution_count": null,
   "metadata": {},
   "outputs": [],
   "source": [
    "# Clear the agent historty\n",
    "agent.clear_memory()\n",
    "\n",
    "# Create a message\n",
    "prompt = \"What is the capital of France?\"\n",
    "user_message = UserMessage(text=prompt)\n",
    "\n",
    "response = await agent.ainvoke(user_message=user_message)\n",
    "print(response[\"body\"][\"text\"])"
   ]
  },
  {
   "cell_type": "markdown",
   "metadata": {},
   "source": [
    "### Calculating token usage\n",
    "\n",
    "You get the cumulative token usage since the start of the messages.\n"
   ]
  },
  {
   "cell_type": "code",
   "execution_count": null,
   "metadata": {},
   "outputs": [],
   "source": [
    "agent.get_cumulative_token_count()"
   ]
  },
  {
   "cell_type": "markdown",
   "metadata": {},
   "source": [
    "### Getting the invocation history\n"
   ]
  },
  {
   "cell_type": "code",
   "execution_count": null,
   "metadata": {},
   "outputs": [],
   "source": [
    "invocation_history = agent.get_invocation_history()\n",
    "invocation_history"
   ]
  },
  {
   "cell_type": "code",
   "execution_count": null,
   "metadata": {},
   "outputs": [],
   "source": [
    "# Access the thinking of the agent\n",
    "print(f\"Thinking:\\n{invocation_history[0].thinking}\\n\\n\")\n",
    "\n",
    "# Access the planning\n",
    "print(f\"Plan:\\n{invocation_history[0].current_plan}\\n\\n\")\n",
    "\n",
    "# Access the update message of the agent\n",
    "# Access the planning\n",
    "print(f\"Update Message:\\n{invocation_history[0].update_message}\\n\\n\")"
   ]
  }
 ],
 "metadata": {
  "kernelspec": {
   "display_name": "converse_agent",
   "language": "python",
   "name": "python3"
  },
  "language_info": {
   "codemirror_mode": {
    "name": "ipython",
    "version": 3
   },
   "file_extension": ".py",
   "mimetype": "text/x-python",
   "name": "python",
   "nbconvert_exporter": "python",
   "pygments_lexer": "ipython3",
   "version": "3.12.6"
  }
 },
 "nbformat": 4,
 "nbformat_minor": 2
}
