{
 "cells": [
  {
   "cell_type": "markdown",
   "metadata": {},
   "source": [
    "### Creating an agent with filesystem tools\n",
    "\n",
    "This notebook will show you how to create an agent that has access\n",
    "to the local filesystem.\n",
    "\n",
    "CAUTION: It is recommended that this agent be run in a sandbox and\n",
    "provided a base directory to limit its access as it has access to the filesystem\n"
   ]
  },
  {
   "cell_type": "code",
   "execution_count": null,
   "metadata": {},
   "outputs": [],
   "source": [
    "from converseagent.agents import BaseAgent\n",
    "from converseagent.messages import UserMessage\n",
    "from converseagent.models.bedrock import BedrockModel\n",
    "from converseagent_extras.tools.tool_groups.filesystem import FileSystemToolGroup"
   ]
  },
  {
   "cell_type": "code",
   "execution_count": null,
   "metadata": {},
   "outputs": [],
   "source": [
    "# Specify a Bedrock model id\n",
    "bedrock_model_id = \"us.anthropic.claude-3-5-sonnet-20241022-v2:0\"\n",
    "model = BedrockModel(bedrock_model_id=bedrock_model_id)\n",
    "# Initialize the agent\n",
    "agent = BaseAgent(model=model, return_final_response_only=False)\n",
    "agent.add_tool_groups([FileSystemToolGroup(base_dir=\"./sample_data\")])"
   ]
  },
  {
   "cell_type": "code",
   "execution_count": null,
   "metadata": {},
   "outputs": [],
   "source": [
    "prompt = \"\"\"\n",
    "Read the contents of ./sample_data/space.md\n",
    "\n",
    "Tell me what's in it\n",
    "\"\"\"\n",
    "\n",
    "response = agent.invoke(user_message=UserMessage(text=prompt), verbose=True)\n",
    "response[\"body\"][\"text\"]"
   ]
  }
 ],
 "metadata": {
  "kernelspec": {
   "display_name": "converse_agent",
   "language": "python",
   "name": "python3"
  },
  "language_info": {
   "codemirror_mode": {
    "name": "ipython",
    "version": 3
   },
   "file_extension": ".py",
   "mimetype": "text/x-python",
   "name": "python",
   "nbconvert_exporter": "python",
   "pygments_lexer": "ipython3",
   "version": "3.12.6"
  }
 },
 "nbformat": 4,
 "nbformat_minor": 2
}
