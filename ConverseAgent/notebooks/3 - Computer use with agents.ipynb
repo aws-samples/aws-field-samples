{
 "cells": [
  {
   "cell_type": "markdown",
   "metadata": {},
   "source": [
    "### Computer use with agents\n",
    "\n",
    "This notebook will show you how to to create an agent that can use the computer.\n",
    "\n",
    "Currently only Claude 3.7 Sonnet has been tested with this notebook. It can currently\n",
    "only perform click, type, and scroll.\n",
    "\n",
    "**Prerequisites**:\n",
    "\n",
    "- Access to Amazon Bedrock Claude 3.7 Sonnet\n"
   ]
  },
  {
   "cell_type": "code",
   "execution_count": null,
   "metadata": {},
   "outputs": [],
   "source": [
    "from time import sleep\n",
    "\n",
    "from converseagent.messages import UserMessage\n",
    "from converseagent.models.bedrock import BedrockModel\n",
    "from converseagent.models.config import InferenceConfig\n",
    "from converseagent_extras.agents.computer_agent import ComputerAgent\n",
    "from converseagent.utils.update import update_callback"
   ]
  },
  {
   "cell_type": "code",
   "execution_count": null,
   "metadata": {},
   "outputs": [],
   "source": [
    "# Specify a Bedrock model id\n",
    "bedrock_model_id = \"us.anthropic.claude-3-7-sonnet-20250219-v1:0\"\n",
    "\n",
    "model = BedrockModel(\n",
    "    bedrock_model_id=bedrock_model_id,\n",
    ")\n",
    "\n",
    "# Setting inference config\n",
    "inference_config = InferenceConfig(max_tokens=32000, temperature=1)\n",
    "\n",
    "# Enabling Claude 3.7 Sonnet Reasoning\n",
    "additional_model_request_fields = {\n",
    "    \"thinking\": {\"type\": \"enabled\", \"budget_tokens\": 1024},\n",
    "    \"anthropic_beta\": [\"computer-use-2025-01-24\"],\n",
    "}\n",
    "\n",
    "agent = ComputerAgent(model=model)"
   ]
  },
  {
   "cell_type": "code",
   "execution_count": null,
   "metadata": {},
   "outputs": [],
   "source": [
    "prompt = \"\"\"\n",
    "Try to be efficient in your computer use. If you can combine both move and click in one go, then\n",
    "make sure to use the click tool with the coordinates. Use the red dot to tell you where\n",
    "\n",
    "Go to amazon.ca, find a Fire TV 4K at least 50\" big, and add it to the cart.\n",
    "Decline any extended warranty.\n",
    "\"\"\"\n",
    "\n",
    "user_message = UserMessage(text=prompt)\n",
    "\n",
    "# Give time to bring up the web browser\n",
    "sleep(5)\n",
    "\n",
    "# Initial screenshot to get the\n",
    "initial_screenshot = agent._get_screenshot()\n",
    "initial_screenshot.metadata = {\"retention\": \"after_next_turn\"}\n",
    "user_message.append_content(initial_screenshot)\n",
    "\n",
    "response = agent.invoke(\n",
    "    user_message=user_message,\n",
    "    inference_config=inference_config,\n",
    "    additional_model_request_fields=additional_model_request_fields,\n",
    "    verbose=False,\n",
    "    max_iterations=50,\n",
    "    update_callback=update_callback,\n",
    ")\n",
    "print(response[\"body\"][\"text\"])"
   ]
  }
 ],
 "metadata": {
  "kernelspec": {
   "display_name": "converse_agent",
   "language": "python",
   "name": "python3"
  },
  "language_info": {
   "codemirror_mode": {
    "name": "ipython",
    "version": 3
   },
   "file_extension": ".py",
   "mimetype": "text/x-python",
   "name": "python",
   "nbconvert_exporter": "python",
   "pygments_lexer": "ipython3",
   "version": "3.12.6"
  }
 },
 "nbformat": 4,
 "nbformat_minor": 2
}
